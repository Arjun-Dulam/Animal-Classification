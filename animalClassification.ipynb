{
 "cells": [
  {
   "cell_type": "code",
   "execution_count": null,
   "metadata": {},
   "outputs": [],
   "source": [
    "import numpy as np\n",
    "import torch\n",
    "from torchvision import models, transforms\n",
    "import cv2\n",
    "import matplotlib.pyplot as plt\n",
    "import sklearn"
   ]
  },
  {
   "cell_type": "code",
   "execution_count": null,
   "metadata": {},
   "outputs": [],
   "source": [
    "def preprocessImage(imagePath):\n",
    "    image = cv2.imread(imagePath) # loads pixel values\n",
    "\n",
    "    image = cv2.cvtColor(image, cv2.COLOR_BGR2RGB) # converts from BGR to RGB format\n",
    "    image = cv2.resize(image, (256, 256)) # resizes to be square shape\n",
    "    image = image / 255.0 # normalizes the light values, so the pixel values range from 0 to 1.\n",
    "\n",
    "    image  = cv2.bilateralFilter(image, 9, 75, 75) # applies a bilateral filter to smooth the image while preserving edges\n",
    "    \n",
    "    return image\n",
    "\n",
    "def showImage(image):\n",
    "    plt.imshow(image)\n",
    "    plt.axis('off')\n",
    "    plt.show()"
   ]
  },
  {
   "cell_type": "code",
   "execution_count": null,
   "metadata": {},
   "outputs": [],
   "source": [
    "def initializeParameters(n, m):\n",
    "    \"\"\"\"\n",
    "    \"Initializes the parameters for a neural network layer with n inputs and m outputs.\n",
    "    \"\"\"\n",
    "    w = np.random.randn(n, m)"
   ]
  },
  {
   "cell_type": "code",
   "execution_count": null,
   "metadata": {},
   "outputs": [],
   "source": [
    "def output(x, w, b):\n",
    "    \"\"\"\n",
    "    Computes the output of a linear layer given input x, weights w, and bias b.\n",
    "    x: input data (1,n)\n",
    "    w: weights (n,m)\n",
    "    b: bias (1,m)\n",
    "    \n",
    "    Returns the output (1,m) as a numpy array with softmax function applied.\n",
    "    \"\"\"\n",
    "    y = x @ w + b  # matrix multiplication and bias addition\n",
    "\n",
    "    # Apply softmax to the output\n",
    "    exp_y = np.exp(y) \n",
    "    return exp_y / np.sum(exp_y)"
   ]
  },
  {
   "cell_type": "code",
   "execution_count": null,
   "metadata": {},
   "outputs": [],
   "source": [
    "def gradient(x, w, b):\n",
    "    \"\"\"\n",
    "    Computes the gradient of the output using logistic regression.\n",
    "\n",
    "    \"\"\"\n",
    "\n",
    "        \n",
    "    return "
   ]
  },
  {
   "cell_type": "code",
   "execution_count": null,
   "metadata": {},
   "outputs": [],
   "source": [
    "array = np.array(preprocessImage(\"images/butterfly/e030b20a20e90021d85a5854ee454296eb70e3c818b413449df6c87ca3ed_640.jpg\"))\n",
    "print(array.shape)\n",
    "print(array)"
   ]
  }
 ],
 "metadata": {
  "kernelspec": {
   "display_name": ".venv",
   "language": "python",
   "name": "python3"
  },
  "language_info": {
   "codemirror_mode": {
    "name": "ipython",
    "version": 3
   },
   "file_extension": ".py",
   "mimetype": "text/x-python",
   "name": "python",
   "nbconvert_exporter": "python",
   "pygments_lexer": "ipython3",
   "version": "3.12.9"
  }
 },
 "nbformat": 4,
 "nbformat_minor": 2
}
